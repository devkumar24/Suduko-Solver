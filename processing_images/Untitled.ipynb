{
 "cells": [
  {
   "cell_type": "code",
   "execution_count": 1,
   "metadata": {},
   "outputs": [],
   "source": [
    "import numpy as np\n",
    "import cv2\n",
    "import matplotlib.pyplot as plt"
   ]
  },
  {
   "cell_type": "code",
   "execution_count": 2,
   "metadata": {},
   "outputs": [],
   "source": [
    "image_path = \"../images/before/sudoku-puzzle-863979.jpg\""
   ]
  },
  {
   "cell_type": "code",
   "execution_count": 80,
   "metadata": {},
   "outputs": [],
   "source": [
    "#-------------------------------------------------------------------------------------------------------\n",
    "def create_image(height,width,grayScale = False,grayChannel = False, whiteImage = True):\n",
    "    \"\"\"\n",
    "    This will create white or a black image as per requirement.\n",
    "    Args:\n",
    "        height      -> Tells about the height of image. Let say height = 512(pixels).\n",
    "        width       -> Tells about the width of image. Let say width = 512(pixels).\n",
    "        grayScale   -> Whether we want grayScale image or not.\n",
    "        grayChannel -> Whether we want channel or not.\n",
    "        whiteImage  -> Whther we want white image/ black image.\n",
    "        \n",
    "        \n",
    "    Return:\n",
    "        It will return an numpy.ndarray of shape (height,width,_), which is basically denotes an image.\n",
    "    \"\"\"   \n",
    "    if whiteImage: # Check whether user want whiteImage or not.\n",
    "        \n",
    "        if grayScale: #GrayScale or not\n",
    "            if grayChannel: #grayChannel or not\n",
    "                return 255. * np.ones((height,width,1),np.uint8) # return an numpy.ndarray\n",
    "            else:\n",
    "                return 255. * np.ones((height,width),np.uint8) # return an numpy.ndarray\n",
    "        else:\n",
    "            return 255. * np.ones((height,width,3),np.uint8) # return an numpy.ndarray\n",
    "        \n",
    "    else:\n",
    "        if grayScale:\n",
    "            if grayChannel:\n",
    "                return np.zeros((height,width,1),np.uint8)\n",
    "            else:\n",
    "                return np.zeros((height,width),np.uint8)\n",
    "        else:\n",
    "            return np.zeros((height,width,3),np.uint8)\n",
    "\n",
    "#-------------------------------------------------------------------------------------------------------        \n",
    "def show_image(image,image_title: str = \"\"):\n",
    "    # import opencv\n",
    "    import cv2\n",
    "    \n",
    "    cv2.imshow(image_title,image) # Display image\n",
    "    cv2.waitKey(0) # Wait for key to be pressed(any key)\n",
    "    cv2.destroyAllWindows() # close the program\n",
    "    \n",
    "#-------------------------------------------------------------------------------------------------------  \n",
    "def preprocess(image,\n",
    "               save_image = False,\n",
    "               dilate_image = False,\n",
    "               filepath : str = \"\",\n",
    "               filename : str = \"\",\n",
    "               extension : str = \"\"\n",
    "              ):\n",
    "    \n",
    "    import cv2\n",
    "    # Read image using open-cv\n",
    "    image = cv2.imread(image)\n",
    "    # Make BGR image to GRAY Scale image\n",
    "    gray_image = cv2.cvtColor(image,cv2.COLOR_BGR2GRAY)\n",
    "    if save_image:\n",
    "        cv2.imwrite(filepath + \"/\" + filename + extension,image)\n",
    "        \n",
    "    # make image blur\n",
    "    blur_image = cv2.GaussianBlur(gray_image,(9,9),0)\n",
    "    \n",
    "    #\n",
    "    threshold_image = cv2.adaptiveThreshold(blur_image,\n",
    "                                            255,\n",
    "                                            cv2.ADAPTIVE_THRESH_GAUSSIAN_C,\n",
    "                                            cv2.THRESH_BINARY,\n",
    "                                            11,\n",
    "                                            2\n",
    "                                           )\n",
    "    # Invert the colors of image because we need to find grid edges.\n",
    "    output_image = cv2.bitwise_not(threshold_image,threshold_image)\n",
    "    \n",
    "    # dilate image\n",
    "    if dilate_image:\n",
    "        \n",
    "        kernel = [[0.,1.,0.],[1.,1.,1.],[0.,1.,0.]]\n",
    "        kernel = np.array(kernel)\n",
    "        \n",
    "        output_image = cv2.dilate(output_image,kernel)\n",
    "        \n",
    "    return output_image\n",
    "\n",
    "#----------------------------------------------------------------------------------------------------\n",
    "def GRAY_RGB_GRAY(image,GRAY_RGB = True):    \n",
    "    if GRAY_RGB and (len(image.shape) == 2 or image.shape[2] == 1):\n",
    "        image = cv2.cvtColor(image,cv2.COLOR_GRAY2BGR)\n",
    "        return image\n",
    "    else:\n",
    "        image = cv2.cvtColor(image,cv2.COLOR_BGR2GRAY)\n",
    "        return image\n",
    "    \n",
    "#------------------------------------------------------------------------------------------------------\n",
    "def findContours(image):\n",
    "    contours,hierarchy = cv2.findContours(image,cv2.RETR_EXTERNAL,cv2.CHAIN_APPROX_SIMPLE)\n",
    "    return contours\n",
    "#-------------------------------------------------------------------------------------------------------\n",
    "def plotContours(image,showImage = False):\n",
    "    \n",
    "    contours = findContours(image)\n",
    "    image = GRAY_RGB_GRAY(image)\n",
    "    drawContours = cv2.drawContours(image,contours,-1,(226,3,255),3)\n",
    "    \n",
    "    if showImage:\n",
    "        show_image(drawContours)\n",
    "        \n",
    "    return drawContours\n",
    "\n",
    "#--------------------------------------------------------------------------------------------------------\n",
    "def cal_corners(image):\n",
    "    import operator\n",
    "    \n",
    "    contours = findContours(image)\n",
    "    \n",
    "    contours = sorted(contours,key = cv2.contourArea,reverse=True)\n",
    "    \n",
    "    for_largest = contours[0]\n",
    "    \n",
    "    bottom_r, _ = max( enumerate([ coordinate[0][0] + coordinate[0][1] for coordinate in for_largest]), key=operator.itemgetter(1) )\n",
    "    top_l, _ = min( enumerate([ coordinate[0][0] + coordinate[0][1] for coordinate in for_largest]), key=operator.itemgetter(1) )\n",
    "    bottom_l, _ = min( enumerate([ coordinate[0][0] - coordinate[0][1] for coordinate in for_largest]), key=operator.itemgetter(1) )\n",
    "    top_r, _ = max( enumerate([ coordinate[0][0] - coordinate[0][1] for coordinate in for_largest]), key=operator.itemgetter(1) )\n",
    "    \n",
    "    return [ for_largest[top_l][0],for_largest[top_r][0],for_largest[bottom_r][0],for_largest[bottom_l][0] ]\n",
    "\n",
    "#-----------------------------------------------------------------------------------------------------------\n",
    "def display_points(image,radius = 10, showImage=False):\n",
    "    corners = cal_corners(image)\n",
    "    image = GRAY_RGB_GRAY(image)\n",
    "    \n",
    "    for point in corners:\n",
    "        center = tuple(int(x) for x in point)\n",
    "        image = cv2.circle(image,center,radius,(226,0,255), -1)\n",
    "\n",
    "    if showImage:\n",
    "        show_image(image)\n",
    "    return image\n",
    "\n",
    "#-----------------------------------------------------------------------------------------------------------\n"
   ]
  },
  {
   "cell_type": "code",
   "execution_count": 70,
   "metadata": {},
   "outputs": [],
   "source": [
    "image = preprocess(image_path)"
   ]
  },
  {
   "cell_type": "code",
   "execution_count": 40,
   "metadata": {},
   "outputs": [],
   "source": [
    "show_image(image)"
   ]
  },
  {
   "cell_type": "code",
   "execution_count": 38,
   "metadata": {},
   "outputs": [],
   "source": [
    "s = GRAY_RGB_GRAY(image)"
   ]
  },
  {
   "cell_type": "code",
   "execution_count": 39,
   "metadata": {},
   "outputs": [],
   "source": [
    "show_image(s)"
   ]
  },
  {
   "cell_type": "code",
   "execution_count": 48,
   "metadata": {},
   "outputs": [],
   "source": [
    "a = plotContours(image,True)"
   ]
  },
  {
   "cell_type": "code",
   "execution_count": 61,
   "metadata": {},
   "outputs": [],
   "source": [
    "corners = cal_corners(image)"
   ]
  },
  {
   "cell_type": "code",
   "execution_count": null,
   "metadata": {},
   "outputs": [],
   "source": []
  }
 ],
 "metadata": {
  "kernelspec": {
   "display_name": "Python 3",
   "language": "python",
   "name": "python3"
  },
  "language_info": {
   "codemirror_mode": {
    "name": "ipython",
    "version": 3
   },
   "file_extension": ".py",
   "mimetype": "text/x-python",
   "name": "python",
   "nbconvert_exporter": "python",
   "pygments_lexer": "ipython3",
   "version": "3.8.5"
  }
 },
 "nbformat": 4,
 "nbformat_minor": 4
}
