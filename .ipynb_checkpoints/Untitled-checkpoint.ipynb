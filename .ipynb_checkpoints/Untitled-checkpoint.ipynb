{
 "cells": [
  {
   "cell_type": "code",
   "execution_count": 1,
   "metadata": {},
   "outputs": [],
   "source": [
    "import cv2\n",
    "import matplotlib.pyplot as plt\n",
    "import numpy as np"
   ]
  },
  {
   "cell_type": "code",
   "execution_count": 155,
   "metadata": {},
   "outputs": [],
   "source": [
    "#------------------------Function to display image using opencv------------------------\n",
    "def show_image(image,image_title: str = \"\"):\n",
    "    # import opencv\n",
    "    import cv2\n",
    "    \n",
    "    cv2.imshow(image_title,image) # Display image\n",
    "    cv2.waitKey(0) # Wait for key to be pressed(any key)\n",
    "    cv2.destroyAllWindows() # close the program\n",
    "\n",
    "def preprocess(image,\n",
    "               save_image = False,\n",
    "               dilate_image = False,\n",
    "               file : str = \"\",\n",
    "               extension : str = \".jpg\"\n",
    "              ):\n",
    "    \n",
    "    import cv2\n",
    "    # Read image using open-cv\n",
    "    image = cv2.imread(image)\n",
    "    # Make BGR image to GRAY Scale image\n",
    "    gray_image = cv2.cvtColor(image,cv2.COLOR_BGR2GRAY)\n",
    "    if not save_image:\n",
    "        cv2.imwrite(file + extension,image)\n",
    "        \n",
    "    # make image blur\n",
    "    blur_image = cv2.GaussianBlur(gray_image,(9,9),0)\n",
    "    \n",
    "    #\n",
    "    threshold_image = cv2.adaptiveThreshold(blur_image,\n",
    "                                            255,\n",
    "                                            cv2.ADAPTIVE_THRESH_GAUSSIAN_C,\n",
    "                                            cv2.THRESH_BINARY,\n",
    "                                            15,\n",
    "                                            2\n",
    "                                           )\n",
    "    # Invert the colors of image because we need to find grid edges.\n",
    "    output_image = cv2.bitwise_not(threshold_image,threshold_image)\n",
    "    \n",
    "    # dilate image\n",
    "    if not  dilate_image:\n",
    "        \n",
    "        kernel = [[0.,1.,0.],[1.,1.,1.],[0.,1.,0.]]\n",
    "        kernel = np.array(kernel,np.uint8)\n",
    "        \n",
    "        output_image = cv2.dilate(output_image,kernel)\n",
    "        \n",
    "    return output_image"
   ]
  },
  {
   "cell_type": "code",
   "execution_count": 169,
   "metadata": {},
   "outputs": [],
   "source": [
    "path = \"images/before/sudoku-puzzle-863979.jpg\""
   ]
  },
  {
   "cell_type": "code",
   "execution_count": 182,
   "metadata": {},
   "outputs": [],
   "source": [
    "image = preprocess(path,dilate_image=False)"
   ]
  },
  {
   "cell_type": "code",
   "execution_count": 187,
   "metadata": {},
   "outputs": [],
   "source": [
    "def plot_contours(image):\n",
    "    contours,hierarchy = cv2.findContours(image,cv2.RETR_EXTERNAL,cv2.CHAIN_APPROX_SIMPLE)\n",
    "    \n",
    "    image = cv2.cvtColor(image,cv2.COLOR_GRAY2RGB)\n",
    "    \n",
    "    drawContours = cv2.drawContours(image,contours,-1,(226,3,255),3)\n",
    "    \n",
    "    return drawContours,contours"
   ]
  },
  {
   "cell_type": "code",
   "execution_count": 188,
   "metadata": {},
   "outputs": [],
   "source": [
    "drawCounters,contours = plot_contours(image)"
   ]
  },
  {
   "cell_type": "code",
   "execution_count": 257,
   "metadata": {},
   "outputs": [],
   "source": [
    "def convert_when_colour(colour, img):\n",
    "    \"\"\"Dynamically converts an image to colour if the input colour is a tuple and the image is grayscale.\"\"\"\n",
    "    if len(colour) == 3:\n",
    "        if len(img.shape) == 2:\n",
    "            img = cv2.cvtColor(img, cv2.COLOR_GRAY2BGR)\n",
    "        elif img.shape[2] == 1:\n",
    "            img = cv2.cvtColor(img, cv2.COLOR_GRAY2BGR)\n",
    "    return img"
   ]
  },
  {
   "cell_type": "code",
   "execution_count": 258,
   "metadata": {},
   "outputs": [],
   "source": [
    "def display_points(in_img, points, radius=10, colour=(0, 0, 255), show=False):\n",
    "    \"\"\"\n",
    "    Draws circular points on an image.\n",
    "    Args:\n",
    "        in_img (np.array): Input image (will be copied).\n",
    "        points (np.array): List of points to plot on the image.\n",
    "        radius (int): Radius of the circle to draw.\n",
    "        colour (int|tuple): Integer if grayscale, BGR tuple for colour.\n",
    "        show (bool): If True, will display the image.\n",
    "    Returns:\n",
    "        np.array: Image with the circular points drawn.\n",
    "    \"\"\"\n",
    "    img = convert_when_colour(colour, in_img.copy())\n",
    "\n",
    "    for point in points:\n",
    "        img = cv2.circle(img, tuple(int(x) for x in point), radius, colour, -1)\n",
    "\n",
    "    if show:\n",
    "        show_image(img)\n",
    "    return img"
   ]
  },
  {
   "cell_type": "code",
   "execution_count": 259,
   "metadata": {},
   "outputs": [],
   "source": [
    "a = display_points(image,li)"
   ]
  },
  {
   "cell_type": "code",
   "execution_count": 260,
   "metadata": {},
   "outputs": [],
   "source": [
    "show_image(a)"
   ]
  },
  {
   "cell_type": "code",
   "execution_count": 261,
   "metadata": {},
   "outputs": [],
   "source": [
    "def cal_corners(image):\n",
    "    import operator\n",
    "    \n",
    "    _ , contours = plot_contours(image)\n",
    "    \n",
    "    contours = sorted(contours,key = cv2.contourArea,reverse=True)\n",
    "    \n",
    "    for_largest = contours[0]\n",
    "    \n",
    "    bottom_r, _ = max( enumerate([ coordinate[0][0] + coordinate[0][1] for coordinate in for_largest]), key=operator.itemgetter(1) )\n",
    "    top_l, _ = min( enumerate([ coordinate[0][0] + coordinate[0][1] for coordinate in for_largest]), key=operator.itemgetter(1) )\n",
    "    bottom_l, _ = min( enumerate([ coordinate[0][0] - coordinate[0][1] for coordinate in for_largest]), key=operator.itemgetter(1) )\n",
    "    top_r, _ = max( enumerate([ coordinate[0][0] - coordinate[0][1] for coordinate in for_largest]), key=operator.itemgetter(1) )\n",
    "    \n",
    "    return [ large[top_l][0],large[top_r][0],large[bottom_r][0],large[bottom_l][0] ]"
   ]
  },
  {
   "cell_type": "code",
   "execution_count": 262,
   "metadata": {},
   "outputs": [],
   "source": [
    "points = cal_corners(image)"
   ]
  },
  {
   "cell_type": "code",
   "execution_count": 263,
   "metadata": {},
   "outputs": [],
   "source": [
    "show_image(display_points(image,points))"
   ]
  },
  {
   "cell_type": "code",
   "execution_count": 264,
   "metadata": {},
   "outputs": [],
   "source": [
    "def distance(p1,p2):\n",
    "    import numpy as np\n",
    "    a = p1[0] - p2[0]\n",
    "    b = p1[1] - p2[1]\n",
    "    \n",
    "    a = a**2\n",
    "    b = b**2\n",
    "    \n",
    "    result = np.sqrt(a + b)\n",
    "    \n",
    "    return result"
   ]
  },
  {
   "cell_type": "code",
   "execution_count": 276,
   "metadata": {},
   "outputs": [],
   "source": [
    "def crop_and_wrap(image):\n",
    "    import numpy as np\n",
    "    points = cal_corners(image)\n",
    "    \n",
    "    top_l,top_r,bottom_r,bottom_l = points[0],points[1],points[2],points[3]\n",
    "    \n",
    "    side = max([distance(top_r,bottom_r),\n",
    "                distance(top_l,bottom_l),\n",
    "                distance(bottom_l,bottom_r),\n",
    "                distance(top_l,top_r)])\n",
    "    \n",
    "    dst = np.array([[0, 0], [side - 1, 0], [side - 1, side - 1], [0, side - 1]], dtype='float32')\n",
    "    src = np.array([top_l,top_r,bottom_r,bottom_l])\n",
    "    \n",
    "#     m = cv2.getPerspectiveTransform(src, dst)\n",
    "    m = cv2.getPerspectiveTransform(src,dst)\n",
    "\t# Performs the transformation on the original image\n",
    "    return cv2.warpPerspective(image, m, (int(side), int(side)))"
   ]
  },
  {
   "cell_type": "code",
   "execution_count": 277,
   "metadata": {},
   "outputs": [
    {
     "ename": "error",
     "evalue": "OpenCV(4.5.1) /tmp/pip-req-build-ms668fyv/opencv/modules/imgproc/src/imgwarp.cpp:3392: error: (-215:Assertion failed) src.checkVector(2, CV_32F) == 4 && dst.checkVector(2, CV_32F) == 4 in function 'getPerspectiveTransform'\n",
     "output_type": "error",
     "traceback": [
      "\u001b[0;31m---------------------------------------------------------------------------\u001b[0m",
      "\u001b[0;31merror\u001b[0m                                     Traceback (most recent call last)",
      "\u001b[0;32m<ipython-input-277-3665bac84d7e>\u001b[0m in \u001b[0;36m<module>\u001b[0;34m\u001b[0m\n\u001b[0;32m----> 1\u001b[0;31m \u001b[0ma\u001b[0m \u001b[0;34m=\u001b[0m \u001b[0mcrop_and_wrap\u001b[0m\u001b[0;34m(\u001b[0m\u001b[0mimage\u001b[0m\u001b[0;34m)\u001b[0m\u001b[0;34m\u001b[0m\u001b[0;34m\u001b[0m\u001b[0m\n\u001b[0m",
      "\u001b[0;32m<ipython-input-276-4f7371ae6493>\u001b[0m in \u001b[0;36mcrop_and_wrap\u001b[0;34m(image)\u001b[0m\n\u001b[1;32m     14\u001b[0m \u001b[0;34m\u001b[0m\u001b[0m\n\u001b[1;32m     15\u001b[0m \u001b[0;31m#     m = cv2.getPerspectiveTransform(src, dst)\u001b[0m\u001b[0;34m\u001b[0m\u001b[0;34m\u001b[0m\u001b[0;34m\u001b[0m\u001b[0m\n\u001b[0;32m---> 16\u001b[0;31m     \u001b[0mm\u001b[0m \u001b[0;34m=\u001b[0m \u001b[0mcv2\u001b[0m\u001b[0;34m.\u001b[0m\u001b[0mgetPerspectiveTransform\u001b[0m\u001b[0;34m(\u001b[0m\u001b[0msrc\u001b[0m\u001b[0;34m,\u001b[0m\u001b[0mdst\u001b[0m\u001b[0;34m)\u001b[0m\u001b[0;34m\u001b[0m\u001b[0;34m\u001b[0m\u001b[0m\n\u001b[0m\u001b[1;32m     17\u001b[0m         \u001b[0;31m# Performs the transformation on the original image\u001b[0m\u001b[0;34m\u001b[0m\u001b[0;34m\u001b[0m\u001b[0;34m\u001b[0m\u001b[0m\n\u001b[1;32m     18\u001b[0m     \u001b[0;32mreturn\u001b[0m \u001b[0mcv2\u001b[0m\u001b[0;34m.\u001b[0m\u001b[0mwarpPerspective\u001b[0m\u001b[0;34m(\u001b[0m\u001b[0mimage\u001b[0m\u001b[0;34m,\u001b[0m \u001b[0mm\u001b[0m\u001b[0;34m,\u001b[0m \u001b[0;34m(\u001b[0m\u001b[0mint\u001b[0m\u001b[0;34m(\u001b[0m\u001b[0mside\u001b[0m\u001b[0;34m)\u001b[0m\u001b[0;34m,\u001b[0m \u001b[0mint\u001b[0m\u001b[0;34m(\u001b[0m\u001b[0mside\u001b[0m\u001b[0;34m)\u001b[0m\u001b[0;34m)\u001b[0m\u001b[0;34m)\u001b[0m\u001b[0;34m\u001b[0m\u001b[0;34m\u001b[0m\u001b[0m\n",
      "\u001b[0;31merror\u001b[0m: OpenCV(4.5.1) /tmp/pip-req-build-ms668fyv/opencv/modules/imgproc/src/imgwarp.cpp:3392: error: (-215:Assertion failed) src.checkVector(2, CV_32F) == 4 && dst.checkVector(2, CV_32F) == 4 in function 'getPerspectiveTransform'\n"
     ]
    }
   ],
   "source": [
    "a = crop_and_wrap(image)"
   ]
  },
  {
   "cell_type": "code",
   "execution_count": null,
   "metadata": {},
   "outputs": [],
   "source": []
  },
  {
   "cell_type": "code",
   "execution_count": null,
   "metadata": {},
   "outputs": [],
   "source": []
  },
  {
   "cell_type": "code",
   "execution_count": null,
   "metadata": {},
   "outputs": [],
   "source": []
  },
  {
   "cell_type": "code",
   "execution_count": null,
   "metadata": {},
   "outputs": [],
   "source": []
  },
  {
   "cell_type": "code",
   "execution_count": null,
   "metadata": {},
   "outputs": [],
   "source": []
  },
  {
   "cell_type": "code",
   "execution_count": null,
   "metadata": {},
   "outputs": [],
   "source": []
  },
  {
   "cell_type": "code",
   "execution_count": null,
   "metadata": {},
   "outputs": [],
   "source": []
  }
 ],
 "metadata": {
  "kernelspec": {
   "display_name": "Python 3",
   "language": "python",
   "name": "python3"
  },
  "language_info": {
   "codemirror_mode": {
    "name": "ipython",
    "version": 3
   },
   "file_extension": ".py",
   "mimetype": "text/x-python",
   "name": "python",
   "nbconvert_exporter": "python",
   "pygments_lexer": "ipython3",
   "version": "3.8.5"
  }
 },
 "nbformat": 4,
 "nbformat_minor": 4
}
